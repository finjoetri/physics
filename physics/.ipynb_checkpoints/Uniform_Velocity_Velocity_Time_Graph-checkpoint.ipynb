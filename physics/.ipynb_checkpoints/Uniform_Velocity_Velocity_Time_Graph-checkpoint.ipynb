{
 "cells": [
  {
   "cell_type": "code",
   "execution_count": 99,
   "id": "suspected-gentleman",
   "metadata": {},
   "outputs": [],
   "source": [
    "import matplotlib.pyplot as mp"
   ]
  },
  {
   "cell_type": "code",
   "execution_count": 100,
   "id": "portuguese-lodging",
   "metadata": {},
   "outputs": [],
   "source": [
    "import numpy as np"
   ]
  },
  {
   "cell_type": "code",
   "execution_count": 101,
   "id": "brazilian-phase",
   "metadata": {},
   "outputs": [],
   "source": [
    "import random as rm"
   ]
  },
  {
   "cell_type": "code",
   "execution_count": 102,
   "id": "answering-driver",
   "metadata": {},
   "outputs": [],
   "source": [
    "def plot_uniform_velocity():\n",
    "    velocity=int(input(\"Enter uniform velocity:/n\"))\n",
    "    Start_time=int(input(\"Enter starting time:/n\"))\n",
    "    Stop_time=int(input(\"Enter stopping time:/n\"))\n",
    "    time=np.arange(Start_time,Stop_time,0.001)\n",
    "    a=len(time)\n",
    "    Velocity_array=[]\n",
    "    Velocity_array = [velocity for i in range(a)] \n",
    "    mp.plot(time,Velocity_array)\n",
    "   \n",
    "    \n",
    "    "
   ]
  },
  {
   "cell_type": "code",
   "execution_count": 103,
   "id": "identified-venue",
   "metadata": {},
   "outputs": [
    {
     "name": "stdin",
     "output_type": "stream",
     "text": [
      "Enter uniform velocity:/n 110\n",
      "Enter starting time:/n 0\n",
      "Enter stopping time:/n 10\n"
     ]
    },
    {
     "data": {
      "image/png": "[encoded data removed]",
      "text/plain": [
       "<Figure size 432x288 with 1 Axes>"
      ]
     },
     "metadata": {
      "needs_background": "light"
     },
     "output_type": "display_data"
    }
   ],
   "source": [
    "plot_uniform_velocity();"
   ]
  },
  {
   "cell_type": "code",
   "execution_count": null,
   "id": "front-shift",
   "metadata": {},
   "outputs": [],
   "source": []
  },
  {
   "cell_type": "code",
   "execution_count": null,
   "id": "potential-premiere",
   "metadata": {},
   "outputs": [],
   "source": []
  },
  {
   "cell_type": "code",
   "execution_count": null,
   "id": "objective-armstrong",
   "metadata": {},
   "outputs": [],
   "source": []
  }
 ],
 "metadata": {
  "kernelspec": {
   "display_name": "Python 3",
   "language": "python",
   "name": "python3"
  },
  "language_info": {
   "codemirror_mode": {
    "name": "ipython",
    "version": 3
   },
   "file_extension": ".py",
   "mimetype": "text/x-python",
   "name": "python",
   "nbconvert_exporter": "python",
   "pygments_lexer": "ipython3",
   "version": "3.8.5"
  }
 },
 "nbformat": 4,
 "nbformat_minor": 5
}
