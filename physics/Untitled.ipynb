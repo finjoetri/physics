{
 "cells": [
  {
   "cell_type": "code",
   "execution_count": 94,
   "id": "honest-andrews",
   "metadata": {},
   "outputs": [],
   "source": [
    "import matplotlib.pyplot as mp"
   ]
  },
  {
   "cell_type": "code",
   "execution_count": 95,
   "id": "solid-lawyer",
   "metadata": {},
   "outputs": [],
   "source": [
    "import numpy as np"
   ]
  },
  {
   "cell_type": "code",
   "execution_count": 96,
   "id": "educational-priest",
   "metadata": {},
   "outputs": [],
   "source": [
    "import random as rm"
   ]
  },
  {
   "cell_type": "code",
   "execution_count": 97,
   "id": "severe-taiwan",
   "metadata": {},
   "outputs": [],
   "source": [
    "def plot_uniform_velocity():\n",
    "    velocity=int(input(\"Enter uniform velocity:/n\"))\n",
    "    Start_time=int(input(\"Enter starting time:/n\"))\n",
    "    Stop_time=int(input(\"Enter stopping time:/n\"))\n",
    "    time=np.arange(Start_time,Stop_time,0.001)\n",
    "    a=len(time)\n",
    "    Velocity_array=[]\n",
    "    Velocity_array = [velocity for i in range(a)] \n",
    "    mp.plot(time,Velocity_array)\n",
    "   \n",
    "    \n",
    "    "
   ]
  },
  {
   "cell_type": "code",
   "execution_count": null,
   "id": "opening-montgomery",
   "metadata": {},
   "outputs": [],
   "source": [
    "plot_uniform_velocity();"
   ]
  },
  {
   "cell_type": "code",
   "execution_count": null,
   "id": "hybrid-platinum",
   "metadata": {},
   "outputs": [],
   "source": []
  },
  {
   "cell_type": "code",
   "execution_count": null,
   "id": "impressive-birth",
   "metadata": {},
   "outputs": [],
   "source": []
  },
  {
   "cell_type": "code",
   "execution_count": null,
   "id": "increased-crazy",
   "metadata": {},
   "outputs": [],
   "source": []
  }
 ],
 "metadata": {
  "kernelspec": {
   "display_name": "Python 3",
   "language": "python",
   "name": "python3"
  },
  "language_info": {
   "codemirror_mode": {
    "name": "ipython",
    "version": 3
   },
   "file_extension": ".py",
   "mimetype": "text/x-python",
   "name": "python",
   "nbconvert_exporter": "python",
   "pygments_lexer": "ipython3",
   "version": "3.8.5"
  }
 },
 "nbformat": 4,
 "nbformat_minor": 5
}
